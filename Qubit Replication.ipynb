{
 "cells": [
  {
   "attachments": {},
   "cell_type": "markdown",
   "metadata": {},
   "source": [
    "# Replicating Qubit Results\n",
    "\n",
    "This notebook attempts to replicate results from this [paper](https://www.science.org/doi/10.1126/sciadv.abl6698).\n",
    "\n",
    "First problem: when specifying Ω, α, the values calculated by Transmon() are different and use the eigenenergies. Find a way to reverse-engineer the Hamiltonian so they are kept the same as specified."
   ]
  },
  {
   "cell_type": "code",
   "execution_count": null,
   "metadata": {},
   "outputs": [],
   "source": [
    "# imports\n",
    "import pandas as pd\n",
    "import numpy as np\n",
    "\n",
    "from transmon_code.superoperators import *\n",
    "from transmon_code.transmon import Transmon\n",
    "from transmon_code.optimise_X90 import *\n",
    "from transmon_code.simulate import *\n",
    "from transmon_code.helpers import *"
   ]
  },
  {
   "cell_type": "code",
   "execution_count": null,
   "metadata": {},
   "outputs": [],
   "source": [
    "# read data from csv fild\n",
    "data = pd.read_csv(\"qubit_data.csv\")\n",
    "\n",
    "transmons = [Transmon(n_levels=8, Ω=2*np.pi*data[\"Ω/2π (MHz)\"][i], α=2*np.pi*data[\"α/2π (MHz)\"][i], RWA=False, t_decay=data[\"T1 (μs)\"][i], t_dephase=data[\"T2 (μs)\"][i], dt=0.00002) for i in range(len(data))]\n",
    "\n",
    "# first one is the width between A=(A/e)\n",
    "# second is zero-to-zero width\n",
    "pulse_width = 0.04973593124638\n",
    "pulse_width = 0.024\n",
    "\n",
    "### TEST BELOW\n",
    "\n",
    "transmons[0].X90_args = {'A': 152.76901236246255, 'Γ': 0.024, 'ω': 25007.275767054834, 'A_DRAG': -0.0013677941456950009}\n",
    "\n",
    "transmons[1].X90_args = {'A': 152.80570762438495, 'Γ': 0.024, 'ω': 25409.587896997888, 'A_DRAG': -0.0011863850682256394}\n",
    "\n",
    "transmons[2].X90_args = {'A': 152.88720727559814, 'Γ': 0.024, 'ω': 25943.997177293375, 'A_DRAG': -0.0007523755046243693}\n",
    "\n",
    "transmons[3].X90_args = {'A': 152.9486513654043, 'Γ': 0.024, 'ω': 26333.12122293356, 'A_DRAG': -0.0011984655445269122}\n",
    "\n",
    "data"
   ]
  },
  {
   "cell_type": "code",
   "execution_count": null,
   "metadata": {},
   "outputs": [],
   "source": [
    "semiranges = {\"A\":40, \"ω\": 50, \"Γ\":0, \"A_DRAG\":0.05}\n",
    "\n",
    "t = np.arange(0, transmons[0].X90_args[\"Γ\"], transmons[0].dt)\n",
    "\n",
    "for qubit_no in range(4):\n",
    "    print(\"Qubit \"+str(qubit_no))    \n",
    "\n",
    "    transmons[qubit_no].t_decay = np.inf\n",
    "    transmons[qubit_no].t_dephase = np.inf\n",
    "\n",
    "    # apparently DRAG parameter is 0.5/α to maximise avg gate fidelity and 1/α to minimise leakage errors?\n",
    "\n",
    "    transmons[qubit_no].X90_args = create_X90_pulse(t, transmons[qubit_no], transmons[qubit_no].X90_args, semiranges=semiranges, plot=True, N=40) \n",
    "\n",
    "for i,v in enumerate(transmons):\n",
    "    print()\n",
    "    print(\"Transmon \"+str(i))\n",
    "    print(v.X90_args)\n",
    "    "
   ]
  },
  {
   "cell_type": "code",
   "execution_count": null,
   "metadata": {},
   "outputs": [],
   "source": [
    "# simulates pulse and breaks down error\n",
    "\n",
    "# %matplotlib qt\n",
    "\n",
    "for qubit_no in range(4):\n",
    "\n",
    "    # transmons[qubit_no].t_decay = data[\"T1 (μs)\"][qubit_no]\n",
    "    # transmons[qubit_no].t_dephase = data[\"T2 (μs)\"][qubit_no]\n",
    "\n",
    "    tmp_args = deepcopy(transmons[qubit_no].X90_args)\n",
    "    # tmp_args[\"A_DRAG\"] = 0\n",
    "\n",
    "    targ = (basis(transmons[qubit_no].n_levels, 0) - 1j*basis(transmons[qubit_no].n_levels, 1)).unit()\n",
    "\n",
    "    res, f = simulate(transmons[qubit_no], tmp_args, target=targ, plot=True)\n",
    "\n",
    "    break_down_errors(transmons[qubit_no], tmp_args, res[-1], f)"
   ]
  },
  {
   "cell_type": "code",
   "execution_count": null,
   "metadata": {},
   "outputs": [],
   "source": []
  }
 ],
 "metadata": {
  "kernelspec": {
   "display_name": "Python 3",
   "language": "python",
   "name": "python3"
  },
  "language_info": {
   "codemirror_mode": {
    "name": "ipython",
    "version": 3
   },
   "file_extension": ".py",
   "mimetype": "text/x-python",
   "name": "python",
   "nbconvert_exporter": "python",
   "pygments_lexer": "ipython3",
   "version": "3.11.0"
  },
  "orig_nbformat": 4,
  "vscode": {
   "interpreter": {
    "hash": "7288047a125d749ccf8d0c933fa1cfc8409f2dedf49938a6afc8b50b9c6c9993"
   }
  }
 },
 "nbformat": 4,
 "nbformat_minor": 2
}
