{
 "cells": [
  {
   "attachments": {},
   "cell_type": "markdown",
   "metadata": {},
   "source": [
    "# Replicating Qubit Results\n",
    "\n",
    "This notebook attempts to replicate results from this [paper](https://www.science.org/doi/10.1126/sciadv.abl6698).\n",
    "\n",
    "First problem: when specifying Ω, α, the values calculated by Transmon() are different and use the eigenenergies. Find a way to reverse-engineer the Hamiltonian so they are kept the same as specified."
   ]
  },
  {
   "cell_type": "code",
   "execution_count": 1,
   "metadata": {},
   "outputs": [],
   "source": [
    "# imports\n",
    "import pandas as pd\n",
    "import numpy as np\n",
    "\n",
    "from transmon_code.superoperators import *\n",
    "from transmon_code.transmon import Transmon\n",
    "from transmon_code.optimise_X90 import *\n",
    "from transmon_code.simulate import *\n",
    "from transmon_code.helpers import *"
   ]
  },
  {
   "cell_type": "code",
   "execution_count": 2,
   "metadata": {},
   "outputs": [
    {
     "data": {
      "text/html": [
       "<div>\n",
       "<style scoped>\n",
       "    .dataframe tbody tr th:only-of-type {\n",
       "        vertical-align: middle;\n",
       "    }\n",
       "\n",
       "    .dataframe tbody tr th {\n",
       "        vertical-align: top;\n",
       "    }\n",
       "\n",
       "    .dataframe thead th {\n",
       "        text-align: right;\n",
       "    }\n",
       "</style>\n",
       "<table border=\"1\" class=\"dataframe\">\n",
       "  <thead>\n",
       "    <tr style=\"text-align: right;\">\n",
       "      <th></th>\n",
       "      <th>Ω (MHz)</th>\n",
       "      <th>α (MHz)</th>\n",
       "      <th>T1 (μs)</th>\n",
       "      <th>T2 (μs)</th>\n",
       "      <th>EPG1</th>\n",
       "      <th>EPG2</th>\n",
       "      <th>EPG theoretical</th>\n",
       "    </tr>\n",
       "  </thead>\n",
       "  <tbody>\n",
       "    <tr>\n",
       "      <th>0</th>\n",
       "      <td>3981</td>\n",
       "      <td>-199</td>\n",
       "      <td>106</td>\n",
       "      <td>101</td>\n",
       "      <td>0.000229</td>\n",
       "      <td>0.000164</td>\n",
       "      <td>0.000110</td>\n",
       "    </tr>\n",
       "    <tr>\n",
       "      <th>1</th>\n",
       "      <td>4045</td>\n",
       "      <td>-199</td>\n",
       "      <td>159</td>\n",
       "      <td>116</td>\n",
       "      <td>0.000146</td>\n",
       "      <td>0.000215</td>\n",
       "      <td>0.000094</td>\n",
       "    </tr>\n",
       "    <tr>\n",
       "      <th>2</th>\n",
       "      <td>4130</td>\n",
       "      <td>-198</td>\n",
       "      <td>179</td>\n",
       "      <td>128</td>\n",
       "      <td>0.000116</td>\n",
       "      <td>0.000131</td>\n",
       "      <td>0.000085</td>\n",
       "    </tr>\n",
       "    <tr>\n",
       "      <th>3</th>\n",
       "      <td>4192</td>\n",
       "      <td>-197</td>\n",
       "      <td>151</td>\n",
       "      <td>113</td>\n",
       "      <td>0.000223</td>\n",
       "      <td>0.000216</td>\n",
       "      <td>0.000097</td>\n",
       "    </tr>\n",
       "  </tbody>\n",
       "</table>\n",
       "</div>"
      ],
      "text/plain": [
       "   Ω (MHz)  α (MHz)  T1 (μs)  T2 (μs)      EPG1      EPG2  EPG theoretical\n",
       "0     3981     -199      106      101  0.000229  0.000164         0.000110\n",
       "1     4045     -199      159      116  0.000146  0.000215         0.000094\n",
       "2     4130     -198      179      128  0.000116  0.000131         0.000085\n",
       "3     4192     -197      151      113  0.000223  0.000216         0.000097"
      ]
     },
     "execution_count": 2,
     "metadata": {},
     "output_type": "execute_result"
    }
   ],
   "source": [
    "# read data from csv fild\n",
    "data = pd.read_csv(\"qubit_data.csv\")\n",
    "\n",
    "transmons = [Transmon(n_levels=8, Ω=data[\"Ω (MHz)\"][i], α=data[\"α (MHz)\"][i], RWA=False, t_decay=data[\"T1 (μs)\"][i], t_dephase=data[\"T2 (μs)\"][i], dt=5e-6) for i in range(len(data))]\n",
    "\n",
    "data"
   ]
  },
  {
   "cell_type": "code",
   "execution_count": 3,
   "metadata": {},
   "outputs": [],
   "source": [
    "# setup transmon\n",
    "qubit_no = 0 \n",
    "\n",
    "t = np.arange(0, 0.05, transmons[qubit_no].dt)\n",
    "\n",
    "transmons[qubit_no].X90_args = {'A': 15.244446172841954, 'Γ': 0.24, \"ω\":transmons[qubit_no].Ω, 'A_DRAG': 0.012773896917209865}\n",
    "transmons[qubit_no].X90_args = {'A': 130.45643689487196, 'Γ': 0.024, 'ω': transmons[qubit_no].Ω, 'A_DRAG': 0.5/transmons[qubit_no].α}\n",
    "transmons[qubit_no].t_decay = np.inf\n",
    "transmons[qubit_no].t_dephase = np.inf\n",
    "\n",
    "# apparently DRAG parameter is 0.5/α to maximise avg gate fidelity and 1/α to minimise leakage errors?\n",
    "\n",
    "semiranges = {\"A\":1, \"Γ\":0.02, \"A_DRAG\":0.1}\n",
    "semiranges = {\"A\":60, \"Γ\":0, \"A_DRAG\":0.05}"
   ]
  },
  {
   "cell_type": "code",
   "execution_count": 4,
   "metadata": {},
   "outputs": [],
   "source": [
    "# train pulse for transmon\n",
    "\n",
    "\n",
    "transmons[0].X90_args = create_X90_pulse(t, transmons[qubit_no], transmons[qubit_no].X90_args, semiranges, plot=True, N=50)"
   ]
  },
  {
   "cell_type": "code",
   "execution_count": null,
   "metadata": {},
   "outputs": [],
   "source": [
    "# simulates pulse and breaks down error\n",
    "%matplotlib qt\n",
    "\n",
    "targ = (basis(transmons[qubit_no].n_levels, 0) - 1j*basis(transmons[qubit_no].n_levels, 1)).unit()\n",
    "tmp_args = {'A': 400, 'Γ': 0.024, 'ω': transmons[qubit_no].Ω, 'A_DRAG': 0.002}\n",
    "tmp_args = transmons[qubit_no].X90_args\n",
    "\n",
    "res, f = simulate(transmons[qubit_no], tmp_args, target=targ, plot=True)\n",
    "\n",
    "break_down_errors(transmons[qubit_no], transmons[qubit_no].X90_args, res[-1], f)\n",
    "\n",
    "print(data[\"EPG theoretical\"][qubit_no])"
   ]
  },
  {
   "cell_type": "code",
   "execution_count": null,
   "metadata": {},
   "outputs": [],
   "source": []
  }
 ],
 "metadata": {
  "kernelspec": {
   "display_name": "Python 3",
   "language": "python",
   "name": "python3"
  },
  "language_info": {
   "codemirror_mode": {
    "name": "ipython",
    "version": 3
   },
   "file_extension": ".py",
   "mimetype": "text/x-python",
   "name": "python",
   "nbconvert_exporter": "python",
   "pygments_lexer": "ipython3",
   "version": "3.11.0"
  },
  "orig_nbformat": 4,
  "vscode": {
   "interpreter": {
    "hash": "7288047a125d749ccf8d0c933fa1cfc8409f2dedf49938a6afc8b50b9c6c9993"
   }
  }
 },
 "nbformat": 4,
 "nbformat_minor": 2
}
