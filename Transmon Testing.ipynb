{
 "cells": [
  {
   "attachments": {},
   "cell_type": "markdown",
   "metadata": {},
   "source": [
    "# Testing\n",
    "\n",
    "This notebook is to test that a transmon behaves as expected when it is driven."
   ]
  },
  {
   "cell_type": "code",
   "execution_count": 1,
   "metadata": {},
   "outputs": [],
   "source": [
    "# imports\n",
    "import numpy as np\n",
    "from qutip import basis\n",
    "from transmon_code.transmon import *\n",
    "from transmon_code.simulate import *\n",
    "from transmon_code.helpers import *"
   ]
  },
  {
   "cell_type": "code",
   "execution_count": 2,
   "metadata": {},
   "outputs": [],
   "source": [
    "# define the transmon\n",
    "\n",
    "tr = Transmon(n_levels=8, initial_state=0, Ω=5000, α=-100, RWA=False, dt=1/10000)\n",
    "tr.X90_args = {'A': 7.348405182474674, 'Γ': 0.5002663076440171, 'ω': tr.Ω, 'A_DRAG': 0.007838355884812595}"
   ]
  },
  {
   "cell_type": "code",
   "execution_count": null,
   "metadata": {},
   "outputs": [],
   "source": [
    "# test an X90 pulse from 0 to - (minus)\n",
    "\n",
    "targ = (basis(tr.n_levels, 0)-1j*basis(tr.n_levels, 1)).unit()\n",
    "\n",
    "res, f = simulate(tr, tr.X90_args, target=targ, noise=False, plot=True)\n",
    "print(f)"
   ]
  },
  {
   "cell_type": "code",
   "execution_count": null,
   "metadata": {},
   "outputs": [],
   "source": [
    "# test an X90 pulse on a random initial state\n",
    "\n",
    "tr.ψ0 = expand(rand_ket(2), tr.n_levels)\n",
    "targ = expand(calculate_target_state([U(gate_angles[\"X90\"])], truncate(tr.ψ0), plot=False), tr.n_levels)\n",
    "\n",
    "res, f = simulate(tr, tr.X90_args, target=targ, noise=False, plot=True)\n",
    "print(f)\n",
    "\n",
    "tr.ψ0 = basis(tr.n_levels, 0)"
   ]
  },
  {
   "cell_type": "code",
   "execution_count": null,
   "metadata": {},
   "outputs": [],
   "source": [
    "# test a circuit by simulating each pulse individually\n",
    "\n",
    "# define which two gates are to be tested\n",
    "gate1 = \"X90\"\n",
    "gate2 = \"Z90\"\n",
    "\n",
    "# setup transmon and target\n",
    "target = calculate_target_state([gate1, gate2], tr.ψ0)\n",
    "target = expand(target, tr.n_levels)\n",
    "tr.ψ0 = basis(tr.n_levels, 0)\n",
    "\n",
    "# prep for plotting\n",
    "b = Bloch()\n",
    "b.make_sphere()\n",
    "b.add_states(truncate(tr.ψ0))\n",
    "b.add_states(truncate(target))\n",
    "\n",
    "# gate 1\n",
    "θ, φ, λ = gate_angles[gate1]\n",
    "total_phase = 0\n",
    "\n",
    "total_phase += (λ-np.pi/2)\n",
    "args = tr.get_noisy_args()\n",
    "args[\"φ\"] += total_phase\n",
    "tr.ψ0 = simulate(tr, args, target=None, plot=False)[-1]\n",
    "\n",
    "total_phase += (np.pi-θ)\n",
    "args = tr.get_noisy_args()\n",
    "args[\"φ\"] += total_phase\n",
    "tr.ψ0 = simulate(tr, args, target=None, plot=False)[-1]\n",
    "\n",
    "total_phase += (φ-np.pi/2)\n",
    "\n",
    "# gate 2\n",
    "θ, φ, λ = gate_angles[gate2]\n",
    "total_phase += (λ-np.pi/2)\n",
    "args = tr.get_noisy_args()\n",
    "args[\"φ\"] += total_phase\n",
    "tr.ψ0 = simulate(tr, args, target=None, plot=False)[-1]\n",
    "\n",
    "total_phase += (np.pi-θ)\n",
    "args = tr.get_noisy_args()\n",
    "args[\"φ\"] += total_phase\n",
    "results = simulate(tr, args, target=None, plot=False)\n",
    "\n",
    "# final rotation to account for virtual z gates throughout\n",
    "total_phase += (φ-np.pi/2)\n",
    "result = rotate_z(results[-1], total_phase)\n",
    "\n",
    "# final output\n",
    "print(\"Fidelity: \" + str(fidelity(result, target)))\n",
    "b.add_states(truncate(result))\n",
    "b.render()\n",
    "b.show()"
   ]
  },
  {
   "cell_type": "code",
   "execution_count": 3,
   "metadata": {},
   "outputs": [],
   "source": [
    "# test a circuit using simulate_circuit\n",
    "\n",
    "# setup transmon and gates\n",
    "tr.ψ0 = basis(tr.n_levels, 0)\n",
    "gate1 = \"X90\"\n",
    "gate2 = \"Z90\"\n",
    "gate3 = \"Z180\"\n",
    "gate4 = \"Y90\"\n",
    "\n",
    "# define the circuit\n",
    "c = [U(gate_angles[gate1]), U(gate_angles[gate2]), U(gate_angles[gate3]), U(gate_angles[gate4])]\n",
    "\n",
    "# find target\n",
    "targ = calculate_target_state(c, tr.ψ0)\n",
    "\n",
    "# simulate\n",
    "res, f = simulate_circuit(tr, c, noise=False, plot=True)"
   ]
  },
  {
   "cell_type": "code",
   "execution_count": null,
   "metadata": {},
   "outputs": [],
   "source": []
  }
 ],
 "metadata": {
  "kernelspec": {
   "display_name": "Python 3",
   "language": "python",
   "name": "python3"
  },
  "language_info": {
   "codemirror_mode": {
    "name": "ipython",
    "version": 3
   },
   "file_extension": ".py",
   "mimetype": "text/x-python",
   "name": "python",
   "nbconvert_exporter": "python",
   "pygments_lexer": "ipython3",
   "version": "3.11.0"
  },
  "orig_nbformat": 4,
  "vscode": {
   "interpreter": {
    "hash": "7288047a125d749ccf8d0c933fa1cfc8409f2dedf49938a6afc8b50b9c6c9993"
   }
  }
 },
 "nbformat": 4,
 "nbformat_minor": 2
}
