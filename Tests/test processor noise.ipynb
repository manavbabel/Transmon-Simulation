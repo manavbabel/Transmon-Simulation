{
 "cells": [
  {
   "attachments": {},
   "cell_type": "markdown",
   "metadata": {},
   "source": [
    "check how collapse works in this one - are the operators the same as in v3? same dependence on time?"
   ]
  },
  {
   "cell_type": "code",
   "execution_count": null,
   "metadata": {},
   "outputs": [],
   "source": [
    "from qutip.qip.noise import RandomNoise\n",
    "from qutip.operators import sigmaz, sigmay\n",
    "\n",
    "# add control Hamiltonians\n",
    "processor = Processor(N=1)\n",
    "processor.add_control(sigmaz(), targets=0)\n",
    "\n",
    "# define pulse coefficients and tlist for all pulses\n",
    "processor.pulses[0].coeff = np.array([0.3, 0.5, 0. ])\n",
    "processor.set_all_tlist(np.array([0., np.pi/2., 2*np.pi/2, 3*np.pi/2]))\n",
    "\n",
    "# define noise, loc and scale are keyword arguments for np.random.normal\n",
    "gaussnoise = RandomNoise(\n",
    "            dt=0.01, rand_gen=np.random.normal, loc=0.00, scale=0.02)\n",
    "processor.add_noise(gaussnoise)\n",
    "\n",
    "# Plot the ideal pulse\n",
    "processor.plot_pulses(title=\"Original control amplitude\", figsize=(5,3))\n",
    "\n",
    "# Plot the noisy pulse\n",
    "qobjevo, _ = processor.get_qobjevo(noisy=True)\n",
    "noisy_coeff = qobjevo.to_list()[1][1] + qobjevo.to_list()[2][1]\n",
    "fig2, ax2 = processor.plot_pulses(title=\"Noisy control amplitude\", figsize=(5,3))\n",
    "ax2[0].step(qobjevo.tlist, noisy_coeff)"
   ]
  },
  {
   "attachments": {},
   "cell_type": "markdown",
   "metadata": {},
   "source": [
    "Processor class, or OptPulseProcessor? Does the latter allow optimisation of custom pulses?"
   ]
  }
 ],
 "metadata": {
  "kernelspec": {
   "display_name": "Python 3",
   "language": "python",
   "name": "python3"
  },
  "language_info": {
   "codemirror_mode": {
    "name": "ipython",
    "version": 3
   },
   "file_extension": ".py",
   "mimetype": "text/x-python",
   "name": "python",
   "nbconvert_exporter": "python",
   "pygments_lexer": "ipython3",
   "version": "3.11.0 (main, Oct 24 2022, 18:26:48) [MSC v.1933 64 bit (AMD64)]"
  },
  "orig_nbformat": 4,
  "vscode": {
   "interpreter": {
    "hash": "7288047a125d749ccf8d0c933fa1cfc8409f2dedf49938a6afc8b50b9c6c9993"
   }
  }
 },
 "nbformat": 4,
 "nbformat_minor": 2
}
