{
 "cells": [
  {
   "attachments": {},
   "cell_type": "markdown",
   "metadata": {},
   "source": [
    "custom mesolve attempt"
   ]
  },
  {
   "cell_type": "code",
   "execution_count": 2,
   "metadata": {},
   "outputs": [],
   "source": [
    "import numpy as np\n",
    "import scipy.integrate\n",
    "from qutip.qobj import Qobj, isket, isoper, issuper\n",
    "from qutip.superoperator import spre, spost, liouvillian, vec2mat, lindblad_dissipator\n",
    "from qutip.expect import expect_rho_vec\n",
    "from qutip.solver import Options, Result, solver_safe, SolverSystem\n",
    "from qutip.cy.spmatfuncs import spmv\n",
    "from qutip.cy.spconvert import dense2D_to_fastcsr_fmode\n",
    "from qutip.states import ket2dm\n",
    "from qutip.sesolve import sesolve\n",
    "from qutip.ui.progressbar import BaseProgressBar, TextProgressBar\n",
    "from qutip.qobjevo import QobjEvo\n",
    "\n",
    "from qutip.cy.openmp.utilities import check_use_openmp\n",
    "\n",
    "from transmon import Transmon\n",
    "from gates import Gate\n",
    "import pickle\n",
    "import matplotlib.pyplot as plt"
   ]
  },
  {
   "cell_type": "code",
   "execution_count": 3,
   "metadata": {},
   "outputs": [],
   "source": [
    "tr = Transmon(3, 0, 5000, -350)\n",
    "X180 = Gate(\"X\", 180)\n",
    "t = np.linspace(0, 1, 1000)\n",
    "opt = Options(store_states=True)\n",
    "\n",
    "tr.ψ0 = ket2dm(tr.ψ0)"
   ]
  },
  {
   "cell_type": "code",
   "execution_count": 4,
   "metadata": {},
   "outputs": [],
   "source": [
    "with open(\"f2\", 'rb') as f:\n",
    "    optimal_params = pickle.load(f)\n",
    "\n",
    "X180.optimal_parameters = optimal_params[0]"
   ]
  },
  {
   "cell_type": "code",
   "execution_count": 5,
   "metadata": {},
   "outputs": [],
   "source": [
    "args = X180.optimal_parameters\n",
    "H = [tr.H0, [tr.H1, np.array(X180.H1_coeffs(t, args))]]\n",
    "H = [tr.H1, np.array(X180.H1_coeffs(t, args))]\n",
    "\n",
    "# H = [tr.H0, [tr.H1, X180.H1_coeffs]]"
   ]
  },
  {
   "cell_type": "code",
   "execution_count": 6,
   "metadata": {},
   "outputs": [],
   "source": [
    "# H_td = QobjEvo(H, args, tlist=t)\n",
    "H_td = QobjEvo(H, tlist=t)\n",
    "L_td = liouvillian((H_td))"
   ]
  },
  {
   "cell_type": "code",
   "execution_count": 7,
   "metadata": {},
   "outputs": [],
   "source": [
    "for op in tr.c_ops:\n",
    "    if isinstance(op, Qobj):\n",
    "        op_td = QobjEvo(op)\n",
    "    elif isinstance(op, QobjEvo):\n",
    "        op_td = QobjEvo(op, args)\n",
    "    else:\n",
    "        op_td = QobjEvo(op, args, tlist=t)\n",
    "    if not issuper(op_td.cte):\n",
    "        op_td = lindblad_dissipator(op_td)\n",
    "    L_td += op_td\n"
   ]
  },
  {
   "cell_type": "code",
   "execution_count": 8,
   "metadata": {},
   "outputs": [],
   "source": [
    "def _generic_ode_solve(func, ode_args, rho0, tlist, e_ops, opt,\n",
    "                       progress_bar, dims=None):\n",
    "    \"\"\"\n",
    "    Internal function for solving ME.\n",
    "    Calculate the required expectation values or invoke\n",
    "    callback function at each time step.\n",
    "    \"\"\"\n",
    "    # %%%%%%%%%%%%%%%%%%%%%%%%%%%%%%%%%%%%%%%%%%%%%%%%%%%%%%%%%%%%%%%%%%%%%%%%%\n",
    "    # This function is made similar to sesolve's one for futur merging in a\n",
    "    # solver class\n",
    "    # %%%%%%%%%%%%%%%%%%%%%%%%%%%%%%%%%%%%%%%%%%%%%%%%%%%%%%%%%%%%%%%%%%%%%%%%%\n",
    "\n",
    "    # prepare output array\n",
    "    n_tsteps = len(tlist)\n",
    "    output = Result()\n",
    "    output.solver = \"mesolve\"\n",
    "    output.times = tlist\n",
    "    size = rho0.shape[0]\n",
    "\n",
    "    initial_vector = rho0.full().ravel('F')\n",
    "\n",
    "    r = scipy.integrate.ode(func)\n",
    "    r.set_integrator('zvode', method=opt.method, order=opt.order,\n",
    "                     atol=opt.atol, rtol=opt.rtol, nsteps=opt.nsteps,\n",
    "                     first_step=opt.first_step, min_step=opt.min_step,\n",
    "                     max_step=opt.max_step)\n",
    "    if ode_args:\n",
    "        r.set_f_params(*ode_args)\n",
    "    r.set_initial_value(initial_vector, tlist[0])\n",
    "\n",
    "    e_ops_data = []\n",
    "    output.expect = []\n",
    "    if callable(e_ops):\n",
    "        n_expt_op = 0\n",
    "        expt_callback = True\n",
    "        output.num_expect = 1\n",
    "    elif isinstance(e_ops, list):\n",
    "        n_expt_op = len(e_ops)\n",
    "        expt_callback = False\n",
    "        output.num_expect = n_expt_op\n",
    "        if n_expt_op == 0:\n",
    "            # fall back on storing states\n",
    "            opt.store_states = True\n",
    "        else:\n",
    "            for op in e_ops:\n",
    "                if not isinstance(op, Qobj) and callable(op):\n",
    "                    output.expect.append(np.zeros(n_tsteps, dtype=complex))\n",
    "                    continue\n",
    "                if op.dims != rho0.dims:\n",
    "                    raise TypeError(f\"e_ops dims ({op.dims}) are not \"\n",
    "                                    f\"compatible with the state's \"\n",
    "                                    f\"({rho0.dims})\")\n",
    "                e_ops_data.append(spre(op).data)\n",
    "                if op.isherm and rho0.isherm:\n",
    "                    output.expect.append(np.zeros(n_tsteps))\n",
    "                else:\n",
    "                    output.expect.append(np.zeros(n_tsteps, dtype=complex))\n",
    "    else:\n",
    "        raise TypeError(\"Expectation parameter must be a list or a function\")\n",
    "\n",
    "    if opt.store_states:\n",
    "        output.states = []\n",
    "\n",
    "    def get_curr_state_data(r):\n",
    "        return vec2mat(r.y)\n",
    "\n",
    "    #\n",
    "    # start evolution\n",
    "    #\n",
    "    dt = np.diff(tlist)\n",
    "    cdata = None\n",
    "    progress_bar.start(n_tsteps)\n",
    "    for t_idx, t in enumerate(tlist):\n",
    "        progress_bar.update(t_idx)\n",
    "\n",
    "        if not r.successful():\n",
    "            raise Exception(\"ODE integration error: Try to increase \"\n",
    "                            \"the allowed number of substeps by increasing \"\n",
    "                            \"the nsteps parameter in the Options class.\")\n",
    "\n",
    "        if opt.store_states or expt_callback:\n",
    "            cdata = get_curr_state_data(r)\n",
    "            fdata = dense2D_to_fastcsr_fmode(cdata, size, size)\n",
    "\n",
    "            # Try to guess if there is a fast path for rho_t\n",
    "            if issuper(rho0) or not rho0.isherm:\n",
    "                rho_t = Qobj(fdata, dims=dims)\n",
    "            else:\n",
    "                rho_t = Qobj(fdata, dims=dims, fast=\"mc-dm\")\n",
    "\n",
    "        if opt.store_states:\n",
    "            output.states.append(rho_t)\n",
    "\n",
    "        if expt_callback:\n",
    "            # use callback method\n",
    "            output.expect.append(e_ops(t, rho_t))\n",
    "\n",
    "        for m in range(n_expt_op):\n",
    "            if not isinstance(e_ops[m], Qobj) and callable(e_ops[m]):\n",
    "                output.expect[m][t_idx] = e_ops[m](t, rho_t)\n",
    "                continue\n",
    "            output.expect[m][t_idx] = expect_rho_vec(e_ops_data[m], r.y,\n",
    "                                                     e_ops[m].isherm\n",
    "                                                     and rho0.isherm)\n",
    "\n",
    "        if t_idx < n_tsteps - 1:\n",
    "            r.integrate(r.t + dt[t_idx])\n",
    "\n",
    "    progress_bar.finished()\n",
    "\n",
    "    if opt.store_final_state:\n",
    "        cdata = get_curr_state_data(r)\n",
    "        output.final_state = Qobj(cdata, dims=dims,\n",
    "                                  isherm=rho0.isherm or None)\n",
    "\n",
    "    return output"
   ]
  },
  {
   "cell_type": "code",
   "execution_count": 9,
   "metadata": {},
   "outputs": [],
   "source": [
    "def _test_liouvillian_dimensions(L_dims, rho_dims):\n",
    "    \"\"\"\n",
    "    Raise ValueError if the dimensions of the Liouvillian and the density\n",
    "    matrix or superoperator state are incompatible with the master equation.\n",
    "    \"\"\"\n",
    "    if L_dims[0] != L_dims[1]:\n",
    "        raise ValueError(\"Liouvillian had nonsquare dims: \" + str(L_dims))\n",
    "    if not ((L_dims[1] == rho_dims) or (L_dims[1] == rho_dims[0])):\n",
    "        raise ValueError(\"\".join([\n",
    "            \"incompatible Liouvillian and state dimensions: \",\n",
    "            str(L_dims), \" and \", str(rho_dims),\n",
    "        ]))\n",
    "\n",
    "def _qobjevo_set(HS, rho0, args, e_ops, opt):\n",
    "    \"\"\"\n",
    "    From the system, get the ode function and args\n",
    "    \"\"\"\n",
    "    H_td = HS.H\n",
    "    H_td.solver_set_args(args, rho0, e_ops)\n",
    "    if issuper(rho0):\n",
    "        func = H_td.compiled_qobjevo.ode_mul_mat_f_vec\n",
    "    elif rho0.isket or rho0.isoper:\n",
    "        func = H_td.compiled_qobjevo.mul_vec\n",
    "    else:\n",
    "        # Should be caught earlier in mesolve.\n",
    "        raise ValueError(\"rho0 must be a ket, density matrix or superoperator\")\n",
    "    \n",
    "    _test_liouvillian_dimensions(H_td.cte.dims, rho0.dims)\n",
    "    return func, ()"
   ]
  },
  {
   "cell_type": "code",
   "execution_count": 10,
   "metadata": {},
   "outputs": [],
   "source": [
    "nthread = opt.openmp_threads if opt.use_openmp else 0\n",
    "\n",
    "L_td.compile(omp=nthread)\n",
    "\n",
    "ss = SolverSystem()\n",
    "ss.H = L_td\n",
    "ss.makefunc = _qobjevo_set\n",
    "solver_safe[\"mesolve\"] = ss\n",
    "\n",
    "# ss is now defined"
   ]
  },
  {
   "cell_type": "code",
   "execution_count": 11,
   "metadata": {},
   "outputs": [],
   "source": [
    "func, ode_args = ss.makefunc(ss, tr.ψ0, args, tr.e_ops, opt)\n",
    "\n",
    "res = _generic_ode_solve(func, ode_args, tr.ψ0, t, tr.e_ops, opt, progress_bar=BaseProgressBar(), dims=tr.ψ0.dims)"
   ]
  },
  {
   "cell_type": "code",
   "execution_count": 12,
   "metadata": {},
   "outputs": [
    {
     "data": {
      "image/png": "[encoded data removed]",
      "text/plain": [
       "<Figure size 640x480 with 1 Axes>"
      ]
     },
     "metadata": {},
     "output_type": "display_data"
    }
   ],
   "source": [
    "[plt.plot(t, i) for i in res.expect]\n",
    "plt.show()"
   ]
  },
  {
   "cell_type": "code",
   "execution_count": null,
   "metadata": {},
   "outputs": [],
   "source": []
  }
 ],
 "metadata": {
  "kernelspec": {
   "display_name": "Python 3",
   "language": "python",
   "name": "python3"
  },
  "language_info": {
   "codemirror_mode": {
    "name": "ipython",
    "version": 3
   },
   "file_extension": ".py",
   "mimetype": "text/x-python",
   "name": "python",
   "nbconvert_exporter": "python",
   "pygments_lexer": "ipython3",
   "version": "3.11.0 (main, Oct 24 2022, 18:26:48) [MSC v.1933 64 bit (AMD64)]"
  },
  "orig_nbformat": 4,
  "vscode": {
   "interpreter": {
    "hash": "7288047a125d749ccf8d0c933fa1cfc8409f2dedf49938a6afc8b50b9c6c9993"
   }
  }
 },
 "nbformat": 4,
 "nbformat_minor": 2
}
