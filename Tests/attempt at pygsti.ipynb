{
 "cells": [
  {
   "cell_type": "code",
   "execution_count": 1,
   "metadata": {},
   "outputs": [],
   "source": [
    "import pygsti\n",
    "from pygsti.processors import QubitProcessorSpec as QPS\n",
    "from pygsti.processors import CliffordCompilationRules as CCR"
   ]
  },
  {
   "cell_type": "code",
   "execution_count": 62,
   "metadata": {},
   "outputs": [
    {
     "ename": "ValueError",
     "evalue": "Gxpi4 is not a valid 'standard' gate name, it must be given in `nonstd_gate_unitaries`",
     "output_type": "error",
     "traceback": [
      "\u001b[1;31m---------------------------------------------------------------------------\u001b[0m",
      "\u001b[1;31mValueError\u001b[0m                                Traceback (most recent call last)",
      "Cell \u001b[1;32mIn [62], line 3\u001b[0m\n\u001b[0;32m      1\u001b[0m gate_names \u001b[39m=\u001b[39m [\u001b[39m'\u001b[39m\u001b[39mGxpi2\u001b[39m\u001b[39m'\u001b[39m, \u001b[39m'\u001b[39m\u001b[39mGxmpi2\u001b[39m\u001b[39m'\u001b[39m, \u001b[39m'\u001b[39m\u001b[39mGypi2\u001b[39m\u001b[39m'\u001b[39m, \u001b[39m'\u001b[39m\u001b[39mGympi2\u001b[39m\u001b[39m'\u001b[39m, \u001b[39m\"\u001b[39m\u001b[39mGxpi4\u001b[39m\u001b[39m\"\u001b[39m] \n\u001b[1;32m----> 3\u001b[0m pspec \u001b[39m=\u001b[39m QPS(\u001b[39m1\u001b[39;49m, gate_names, availability\u001b[39m=\u001b[39;49m{})\n\u001b[0;32m      5\u001b[0m compilations \u001b[39m=\u001b[39m {\u001b[39m'\u001b[39m\u001b[39mabsolute\u001b[39m\u001b[39m'\u001b[39m: CCR\u001b[39m.\u001b[39mcreate_standard(pspec, \u001b[39m'\u001b[39m\u001b[39mabsolute\u001b[39m\u001b[39m'\u001b[39m, (\u001b[39m'\u001b[39m\u001b[39mpaulis\u001b[39m\u001b[39m'\u001b[39m, \u001b[39m'\u001b[39m\u001b[39m1Qcliffords\u001b[39m\u001b[39m'\u001b[39m), verbosity\u001b[39m=\u001b[39m\u001b[39m0\u001b[39m),\n\u001b[0;32m      6\u001b[0m                 \u001b[39m'\u001b[39m\u001b[39mpaulieq\u001b[39m\u001b[39m'\u001b[39m: CCR\u001b[39m.\u001b[39mcreate_standard(pspec, \u001b[39m'\u001b[39m\u001b[39mpaulieq\u001b[39m\u001b[39m'\u001b[39m, (\u001b[39m'\u001b[39m\u001b[39m1Qcliffords\u001b[39m\u001b[39m'\u001b[39m, \u001b[39m'\u001b[39m\u001b[39mallcnots\u001b[39m\u001b[39m'\u001b[39m), verbosity\u001b[39m=\u001b[39m\u001b[39m0\u001b[39m)}\n",
      "File \u001b[1;32mc:\\Users\\manav\\AppData\\Local\\Programs\\Python\\Python311\\Lib\\site-packages\\pygsti\\processors\\processorspec.py:829\u001b[0m, in \u001b[0;36mQubitProcessorSpec.__init__\u001b[1;34m(self, num_qubits, gate_names, nonstd_gate_unitaries, availability, geometry, qubit_labels, nonstd_gate_symplecticreps, prep_names, povm_names, instrument_names, nonstd_preps, nonstd_povms, nonstd_instruments, aux_info)\u001b[0m\n\u001b[0;32m    826\u001b[0m \u001b[39mif\u001b[39;00m nonstd_gate_symplecticreps \u001b[39mis\u001b[39;00m \u001b[39mnot\u001b[39;00m \u001b[39mNone\u001b[39;00m:\n\u001b[0;32m    827\u001b[0m     \u001b[39mself\u001b[39m\u001b[39m.\u001b[39m_symplectic_reps\u001b[39m.\u001b[39mupdate(nonstd_gate_symplecticreps)\n\u001b[1;32m--> 829\u001b[0m \u001b[39msuper\u001b[39;49m()\u001b[39m.\u001b[39;49m\u001b[39m__init__\u001b[39;49m(qubit_labels, [\u001b[39m2\u001b[39;49m] \u001b[39m*\u001b[39;49m num_qubits, gate_names, nonstd_gate_unitaries, availability,\n\u001b[0;32m    830\u001b[0m                  geometry, prep_names, povm_names, instrument_names,\n\u001b[0;32m    831\u001b[0m                  nonstd_preps, nonstd_povms, nonstd_instruments, aux_info)\n",
      "File \u001b[1;32mc:\\Users\\manav\\AppData\\Local\\Programs\\Python\\Python311\\Lib\\site-packages\\pygsti\\processors\\processorspec.py:167\u001b[0m, in \u001b[0;36mQuditProcessorSpec.__init__\u001b[1;34m(self, qudit_labels, qudit_udims, gate_names, nonstd_gate_unitaries, availability, geometry, prep_names, povm_names, instrument_names, nonstd_preps, nonstd_povms, nonstd_instruments, aux_info)\u001b[0m\n\u001b[0;32m    165\u001b[0m         \u001b[39mself\u001b[39m\u001b[39m.\u001b[39mgate_unitaries[gname] \u001b[39m=\u001b[39m nq  \u001b[39m# an identity gate\u001b[39;00m\n\u001b[0;32m    166\u001b[0m     \u001b[39melse\u001b[39;00m:\n\u001b[1;32m--> 167\u001b[0m         \u001b[39mraise\u001b[39;00m \u001b[39mValueError\u001b[39;00m(\n\u001b[0;32m    168\u001b[0m             \u001b[39mstr\u001b[39m(gname) \u001b[39m+\u001b[39m \u001b[39m\"\u001b[39m\u001b[39m is not a valid \u001b[39m\u001b[39m'\u001b[39m\u001b[39mstandard\u001b[39m\u001b[39m'\u001b[39m\u001b[39m gate name, it must be given in `nonstd_gate_unitaries`\u001b[39m\u001b[39m\"\u001b[39m)\n\u001b[0;32m    170\u001b[0m \u001b[39m# Note: do *not* store the complex vectors defining states, POVM effects, and instrument members\u001b[39;00m\n\u001b[0;32m    171\u001b[0m \u001b[39m# as these can be large n-qudit vectors.\u001b[39;00m\n\u001b[0;32m    172\u001b[0m \n\u001b[0;32m    173\u001b[0m \u001b[39m# Set self.qudit_graph  (note QubitGraph is not actually qubit specific -- works fine for labelled qudits too)\u001b[39;00m\n\u001b[0;32m    174\u001b[0m \u001b[39mif\u001b[39;00m geometry \u001b[39mis\u001b[39;00m \u001b[39mNone\u001b[39;00m:\n",
      "\u001b[1;31mValueError\u001b[0m: Gxpi4 is not a valid 'standard' gate name, it must be given in `nonstd_gate_unitaries`"
     ]
    }
   ],
   "source": [
    "gate_names = ['Gxpi2', 'Gxmpi2', 'Gypi2', 'Gympi2', \"Gxpi4\"] \n",
    "\n",
    "pspec = QPS(1, gate_names, availability={})\n",
    "\n",
    "compilations = {'absolute': CCR.create_standard(pspec, 'absolute', ('paulis', '1Qcliffords'), verbosity=0),\n",
    "                'paulieq': CCR.create_standard(pspec, 'paulieq', ('1Qcliffords', 'allcnots'), verbosity=0)}"
   ]
  },
  {
   "cell_type": "code",
   "execution_count": 42,
   "metadata": {},
   "outputs": [
    {
     "name": "stdout",
     "output_type": "stream",
     "text": [
      "- Sampling 10 circuits at CRB length 0 (1 of 8 depths) with seed 402098\n",
      "- Sampling 10 circuits at CRB length 1 (2 of 8 depths) with seed 402108\n",
      "- Sampling 10 circuits at CRB length 2 (3 of 8 depths) with seed 402118\n",
      "- Sampling 10 circuits at CRB length 4 (4 of 8 depths) with seed 402128\n",
      "- Sampling 10 circuits at CRB length 8 (5 of 8 depths) with seed 402138\n",
      "- Sampling 10 circuits at CRB length 16 (6 of 8 depths) with seed 402148\n",
      "- Sampling 10 circuits at CRB length 32 (7 of 8 depths) with seed 402158\n",
      "- Sampling 10 circuits at CRB length 64 (8 of 8 depths) with seed 402168\n"
     ]
    }
   ],
   "source": [
    "depths = [0,1,2,4,8,16,32,64]\n",
    "k = 10\n",
    "qubits = ['Q0']\n",
    "# To run direct / mirror RB change CliffordRBDesign -> DirectRBDesign / MirrorRBDesign\n",
    "exp_design = pygsti.protocols.CliffordRBDesign(pspec, compilations, depths, k)"
   ]
  },
  {
   "cell_type": "code",
   "execution_count": 61,
   "metadata": {},
   "outputs": [
    {
     "name": "stdout",
     "output_type": "stream",
     "text": [
      "Gypi2:0\n",
      "Gxpi2:0\n",
      "Gxpi2:0\n",
      "Gxmpi2:0\n",
      "Gxpi2:0\n",
      "Gypi2:0\n",
      "Gxpi2:0\n",
      "Gxpi2:0\n",
      "Gxpi2:0\n",
      "Gxmpi2:0\n"
     ]
    },
    {
     "data": {
      "text/plain": [
       "[None, None, None, None, None, None, None, None, None, None]"
      ]
     },
     "execution_count": 61,
     "metadata": {},
     "output_type": "execute_result"
    }
   ],
   "source": [
    "c = exp_design.circuit_lists[1][0]\n",
    "\n",
    "[print(i) for i in c]"
   ]
  },
  {
   "cell_type": "code",
   "execution_count": 63,
   "metadata": {},
   "outputs": [
    {
     "name": "stderr",
     "output_type": "stream",
     "text": [
      "C:\\Users\\manav\\AppData\\Local\\Temp\\ipykernel_23344\\209009288.py:2: DeprecationWarning: Importing functions/classes of the qip submodule directly from the namespace qutip is deprecated. Please import them from the submodule instead, e.g.\n",
      "from qutip.qip.operations import cnot\n",
      "from qutip.qip.circuit import QubitCircuit\n",
      "\n",
      "  cliffords = list(qt.qubit_clifford_group())\n"
     ]
    }
   ],
   "source": [
    "import qutip as qt\n",
    "cliffords = list(qt.qubit_clifford_group())"
   ]
  },
  {
   "cell_type": "code",
   "execution_count": null,
   "metadata": {},
   "outputs": [],
   "source": []
  }
 ],
 "metadata": {
  "kernelspec": {
   "display_name": "Python 3",
   "language": "python",
   "name": "python3"
  },
  "language_info": {
   "codemirror_mode": {
    "name": "ipython",
    "version": 3
   },
   "file_extension": ".py",
   "mimetype": "text/x-python",
   "name": "python",
   "nbconvert_exporter": "python",
   "pygments_lexer": "ipython3",
   "version": "3.11.0 (main, Oct 24 2022, 18:26:48) [MSC v.1933 64 bit (AMD64)]"
  },
  "orig_nbformat": 4,
  "vscode": {
   "interpreter": {
    "hash": "7288047a125d749ccf8d0c933fa1cfc8409f2dedf49938a6afc8b50b9c6c9993"
   }
  }
 },
 "nbformat": 4,
 "nbformat_minor": 2
}
