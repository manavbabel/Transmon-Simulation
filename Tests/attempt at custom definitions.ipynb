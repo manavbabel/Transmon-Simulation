{
 "cells": [
  {
   "cell_type": "code",
   "execution_count": 1,
   "metadata": {},
   "outputs": [],
   "source": [
    "from qutip_qip import device, pulse, compiler, noise, circuit\n",
    "from qutip import *\n",
    "import numpy as np\n",
    "import matplotlib.pyplot as plt"
   ]
  },
  {
   "cell_type": "code",
   "execution_count": 3,
   "metadata": {},
   "outputs": [],
   "source": [
    "class MySCQModel(device.ModelProcessor):\n",
    "\n",
    "    def __init__(self, dims=[3], t1=None, t2=None, num_qubits=1):\n",
    "\n",
    "        if num_qubits != 1:\n",
    "            raise NotImplementedError(\"This class is made explicitly for one qubit only.\")\n",
    "\n",
    "        if len(dims) != num_qubits:\n",
    "            raise ValueError(\"The length of dims must be equal to the number of qubits.\")\n",
    "\n",
    "        super().__init__(num_qubits, dims)\n",
    "\n",
    "        self.params = {\"t1\":t1, \"t2\":t2}\n",
    "\n",
    "        # the default control is a+adag, targeted at qubit 0\n",
    "        # must be in the form of a tuple\n",
    "        self.controls = {\"default0\": (destroy(dims[0]) + create(dims[0]), 0)}\n",
    "\n",
    "        self.pulse_mode = \"continuous\"\n",
    "    \n",
    "    def get_control(self, label):\n",
    "        # Mandatory method, returns Qobj and int representing control Hamiltonian and target qubit (0)\n",
    "        return self.controls[label]\n",
    "\n",
    "    def get_control_labels(self):\n",
    "        # returns all control labels\n",
    "        return self.controls.keys()\n",
    "\n",
    "    def get_control_latex(self):\n",
    "        # returns a list of dictionaries giving the latex representation of each control\n",
    "        return ([{f\"default0\": r\"$a+a^\\dag$\"}])"
   ]
  },
  {
   "cell_type": "code",
   "execution_count": 8,
   "metadata": {},
   "outputs": [],
   "source": [
    "# custom compiler\n",
    "\n",
    "class MySCQCompiler(compiler.GateCompiler):\n",
    "\n",
    "    def __init__(self, params, num_qubits=1):\n",
    "        super(MySCQCompiler, self).__init__(num_qubits, params=params)\n",
    "\n",
    "        self.gate_compiler[\"X\"] = self.single_qubit_compiler\n",
    "        self.gate_compiler[\"Y\"] = self.single_qubit_compiler\n",
    "        self.args.update({\"params\": params})\n",
    "\n",
    "        self.axis = self.axis\n",
    "        self.angle = \n",
    "\n",
    "        print(self.args)\n",
    "\n",
    "    def single_qubit_compiler(self, gate, args):\n",
    "\n",
    "        targets = gate.targets\n",
    "        pulse_label = \"default0\""
   ]
  },
  {
   "cell_type": "code",
   "execution_count": 4,
   "metadata": {},
   "outputs": [],
   "source": [
    "a = MySCQModel()"
   ]
  },
  {
   "cell_type": "code",
   "execution_count": 5,
   "metadata": {},
   "outputs": [],
   "source": [
    "p = device.ModelProcessor(model=a)"
   ]
  },
  {
   "cell_type": "code",
   "execution_count": 10,
   "metadata": {},
   "outputs": [
    {
     "name": "stdout",
     "output_type": "stream",
     "text": [
      "{'shape': 'rectangular', 'num_samples': None, 'params': {'t1': None, 't2': None}}\n"
     ]
    }
   ],
   "source": [
    "c = MySCQCompiler(p.params, p.num_qubits)"
   ]
  },
  {
   "cell_type": "code",
   "execution_count": 7,
   "metadata": {},
   "outputs": [
    {
     "data": {
      "text/plain": [
       "(Quantum object: dims = [[3], [3]], shape = (3, 3), type = oper, isherm = True\n",
       " Qobj data =\n",
       " [[0.         1.         0.        ]\n",
       "  [1.         0.         1.41421356]\n",
       "  [0.         1.41421356 0.        ]],\n",
       " 0)"
      ]
     },
     "execution_count": 7,
     "metadata": {},
     "output_type": "execute_result"
    }
   ],
   "source": [
    "qc = QubitCircuit(1)\n",
    "qc.add_gate(\"X\", 0)\n"
   ]
  },
  {
   "cell_type": "code",
   "execution_count": null,
   "metadata": {},
   "outputs": [],
   "source": []
  }
 ],
 "metadata": {
  "kernelspec": {
   "display_name": "Python 3",
   "language": "python",
   "name": "python3"
  },
  "language_info": {
   "codemirror_mode": {
    "name": "ipython",
    "version": 3
   },
   "file_extension": ".py",
   "mimetype": "text/x-python",
   "name": "python",
   "nbconvert_exporter": "python",
   "pygments_lexer": "ipython3",
   "version": "3.11.0 (main, Oct 24 2022, 18:26:48) [MSC v.1933 64 bit (AMD64)]"
  },
  "orig_nbformat": 4,
  "vscode": {
   "interpreter": {
    "hash": "7288047a125d749ccf8d0c933fa1cfc8409f2dedf49938a6afc8b50b9c6c9993"
   }
  }
 },
 "nbformat": 4,
 "nbformat_minor": 2
}
