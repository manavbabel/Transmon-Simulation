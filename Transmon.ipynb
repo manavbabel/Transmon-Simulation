{
 "cells": [
  {
   "attachments": {},
   "cell_type": "markdown",
   "metadata": {},
   "source": [
    "# Master Notebook\n",
    "\n",
    "## To-do\n",
    "\n",
    "- try using parallelisation\n",
    "- vary dt from 1/100 to 1/10000\n",
    "- see how truncation affects fidelity. let the n=8 parameters be the true ones, and see how final fidelity varies with no of levels\n",
    "- try and quantify error budget from the [paper](https://www.science.org/doi/10.1126/sciadv.abl6698)\n",
    "  1. for each qubit, optimise the X90 pulse to at least 5 nines fidelity\n",
    "  2. make a list of args with noise added to A,φ, and train X90_PTMs for each one\n",
    "  3. simulate the gates being applied to each paper, so that decoherence+leakage is roughly the value given in the rightmost column\n",
    "  4. modify A,φ noise to account for the rest of the discrepancy (next two columns)\n",
    "  5. use master's [paper](//C:/Users/manav/OneDrive/Oxford/Master's%20project/Papers/CMP1902-1qerrors.pdf) from two years ago to compare with noise in actual system\n",
    "- first, need to check that the PTMs exactly replicate the pulse\n",
    "\n",
    "## Aims\n",
    "\n",
    "Replicate results in online paper from both pulse-level simulation and PTM, and quantify error budget - how much electronics noise is required to get those results?\n",
    "\n",
    "also, to what level does the transmon need to be simulated to get some fidelity?\n",
    "\n",
    "## Algorithm\n",
    "\n",
    "1. Define a transmon class, which acts as a wrapper for various properties. Only the RWA Hamiltonian is currently supported - the rotating frame transformation for the non-RWA Hamiltonian has not been derived. Random noise is added to the optimal parameters upon calling the proper tunction.\n",
    "2. Optimise an X90 pulse for this transmon, using randomised initial states. \n",
    "3. Run a custom circuit to check the functionality\n",
    "4. Create a PTM\n",
    "5. Check pulse level simulation and PTM simulation give same results\n",
    "6. Add noise and compare to paper\n",
    "\n",
    "## Further notes\n",
    "\n",
    "Here, we decompose each gate in a circuit into the vZX basis, which has only an X90 gate, and virtual Z gates. This means the only physical gate we have to implement and optimise is the X90 gate, substantially improving computational time.\n",
    "\n",
    "This decomposition is predicated on the fact that the general gate\n",
    "\n",
    "$$U(\\theta,\\phi,\\lambda)=\\begin{pmatrix}\n",
    "\\cos{\\theta/2}&-e^{-\\imath\\lambda}\\sin{\\theta/2}\\\\\n",
    "e^{\\imath\\phi}\\sin{\\theta/2}&e^{\\imath(\\phi+\\lambda)}\\cos{\\theta/2}\n",
    "\\end{pmatrix}$$\n",
    "\n",
    "Can be deconstructed into\n",
    "\n",
    "$$Z(φ-π/2) @ X(π/2) @ Z(π-θ) @ X(π/2) @ Z(λ-π/2)$$\n",
    "\n",
    "> $@$ means matrix multiplication. It is important to note that numpy operations by default are elementwise!\n",
    "\n",
    "Where the virtual $Z$ gates are implemented by shifting the phase of **all** the subsequent $X$ pulses.\n",
    "\n",
    "Furthermore, it is easier to work in the rotating basis. Instead of applying the rotating frame transformation to the operators, which increases computational load to the point where the simulation is unusable, I have opted to simply apply a time-varying rotation to each state in the final result, without loss of generality.\n",
    "\n",
    "However, the *frequency* of this rotation is currently only known for the transmon Hamiltonian which has been derived using the RWA. To simulate the full non-approximated transmon, the frequency at which the transmon oscillates under that Hamiltonian must be derived. It is then a matter of checking whether the RWA is being used, and using the appropriate frequency.\n",
    "\n",
    "When doing spectroscopy, a spike in P(f) is seen at Ω02/2, meaning multiple-photon transitions are already included.\n"
   ]
  },
  {
   "attachments": {},
   "cell_type": "markdown",
   "metadata": {},
   "source": [
    "### Imports"
   ]
  },
  {
   "cell_type": "code",
   "execution_count": 1,
   "metadata": {},
   "outputs": [],
   "source": [
    "from transmon import Transmon\n",
    "from optimise_X90 import create_X90_pulse\n",
    "from helpers import *\n",
    "from simulate import *\n",
    "from RBT import perform_RBT\n",
    "\n",
    "from qutip import *\n",
    "from copy import deepcopy\n",
    "import numpy as np\n",
    "import matplotlib.pyplot as plt"
   ]
  },
  {
   "attachments": {},
   "cell_type": "markdown",
   "metadata": {},
   "source": [
    "### Define the transmon"
   ]
  },
  {
   "attachments": {},
   "cell_type": "markdown",
   "metadata": {},
   "source": [
    "Original transmon"
   ]
  },
  {
   "cell_type": "code",
   "execution_count": 2,
   "metadata": {},
   "outputs": [],
   "source": [
    "tr = Transmon(n_levels=8, initial_state=0, Ω=5000, α=-100, RWA=True, dt=1/1000)\n",
    "tr.X90_args = {'A': 7.449877548484732, 'Γ': 0.5024320350942441, 'ω': tr.Ω, 'A_DRAG': -0.0034947574297965116}"
   ]
  },
  {
   "attachments": {},
   "cell_type": "markdown",
   "metadata": {},
   "source": [
    "New transmon"
   ]
  },
  {
   "cell_type": "code",
   "execution_count": null,
   "metadata": {},
   "outputs": [],
   "source": [
    "tr = Transmon(n_levels=8, initial_state=0, Ω=5000, α=-100, RWA=False, dt=1/1000, t_decay=50, t_dephase=50, A_noise=1, φ_noise=0.1)\n",
    "tr.X90_args = {'A': 8.388500953340216, 'Γ': 0.44508632500849055, 'ω': tr.Ω, 'A_DRAG': 0.1027171887472194}"
   ]
  },
  {
   "attachments": {},
   "cell_type": "markdown",
   "metadata": {},
   "source": [
    "### Optimise the X90 pulse"
   ]
  },
  {
   "cell_type": "code",
   "execution_count": null,
   "metadata": {},
   "outputs": [],
   "source": [
    "t = np.arange(0, 1, tr.dt)\n",
    "semiranges = {\"A\":0.5, \"Γ\":0.1, \"A_DRAG\":0.1}\n",
    "\n",
    "tr.X90_args = create_X90_pulse(t, tr, args=tr.X90_args, semiranges=semiranges, plot=True, rand_init=False, N=30)"
   ]
  },
  {
   "attachments": {},
   "cell_type": "markdown",
   "metadata": {},
   "source": [
    "Test the X90 pulse"
   ]
  },
  {
   "cell_type": "code",
   "execution_count": 3,
   "metadata": {},
   "outputs": [],
   "source": [
    "# test from 0 to - (minus)\n",
    "\n",
    "targ = (basis(tr.n_levels, 0)-1j*basis(tr.n_levels, 1)).unit()\n",
    "\n",
    "res, f = simulate(tr, tr.X90_args, target=targ, noise=False, plot=True)\n",
    "print(f)\n",
    "\n",
    "print(res.norm())"
   ]
  },
  {
   "cell_type": "code",
   "execution_count": null,
   "metadata": {},
   "outputs": [],
   "source": [
    "# test random initial\n",
    "\n",
    "tr.ψ0 = expand(rand_ket(2), tr.n_levels)\n",
    "targ = expand(calculate_target_state([U(gate_angles[\"X90\"])], truncate(tr.ψ0), plot=False), tr.n_levels)\n",
    "\n",
    "res, f = simulate(tr, tr.X90_args, target=targ, noise=False, plot=True)\n",
    "print(f)\n",
    "\n",
    "tr.ψ0 = basis(tr.n_levels, 0)"
   ]
  },
  {
   "attachments": {},
   "cell_type": "markdown",
   "metadata": {},
   "source": [
    "### Test a circuit"
   ]
  },
  {
   "cell_type": "code",
   "execution_count": null,
   "metadata": {},
   "outputs": [],
   "source": [
    "# %matplotlib qt\n",
    "\n",
    "# define which two gates are to be tested\n",
    "gate1 = \"X90\"\n",
    "gate2 = \"Z90\""
   ]
  },
  {
   "attachments": {},
   "cell_type": "markdown",
   "metadata": {},
   "source": [
    "This cell tests a circuit of two gates by simulating each pulse individually - it is a proof of concept."
   ]
  },
  {
   "cell_type": "code",
   "execution_count": null,
   "metadata": {},
   "outputs": [],
   "source": [
    "# define variables to be used later\n",
    "# note t is just the pulse width because we simulate each pulse individually\n",
    "target = calculate_target_state([gate1, gate2], tr.ψ0)\n",
    "target = expand(target, tr.n_levels)\n",
    "tr.ψ0 = basis(tr.n_levels, 0)\n",
    "\n",
    "# prep for plotting\n",
    "b = Bloch()\n",
    "b.make_sphere()\n",
    "b.add_states(truncate(tr.ψ0))\n",
    "b.add_states(truncate(target))\n",
    "\n",
    "# gate 1\n",
    "θ, φ, λ = gate_angles[gate1]\n",
    "total_phase = 0\n",
    "\n",
    "total_phase += (λ-np.pi/2)\n",
    "args = tr.get_noisy_args()\n",
    "args[\"φ\"] += total_phase\n",
    "tr.ψ0 = simulate(tr, args, target=None, plot=False)[-1]\n",
    "\n",
    "total_phase += (np.pi-θ)\n",
    "args = tr.get_noisy_args()\n",
    "args[\"φ\"] += total_phase\n",
    "tr.ψ0 = simulate(tr, args, target=None, plot=False)[-1]\n",
    "\n",
    "total_phase += (φ-np.pi/2)\n",
    "\n",
    "# gate 2\n",
    "θ, φ, λ = gate_angles[gate2]\n",
    "total_phase += (λ-np.pi/2)\n",
    "args = tr.get_noisy_args()\n",
    "args[\"φ\"] += total_phase\n",
    "tr.ψ0 = simulate(tr, args, target=None, plot=False)[-1]\n",
    "\n",
    "total_phase += (np.pi-θ)\n",
    "args = tr.get_noisy_args()\n",
    "args[\"φ\"] += total_phase\n",
    "results = simulate(tr, args, target=None, plot=False)\n",
    "\n",
    "total_phase += (φ-np.pi/2)\n",
    "\n",
    "# final rotation to account for virtual z gates throughout\n",
    "result = rotate_z(results[-1], total_phase)\n",
    "\n",
    "print(\"Fidelity: \" + str(fidelity(result, target)))\n",
    "\n",
    "b.add_states(truncate(result))\n",
    "b.render()\n",
    "b.show()"
   ]
  },
  {
   "attachments": {},
   "cell_type": "markdown",
   "metadata": {},
   "source": [
    "This cell tests a circuit using the implemented function `simulate_circuit`"
   ]
  },
  {
   "cell_type": "code",
   "execution_count": null,
   "metadata": {},
   "outputs": [],
   "source": [
    "tr.ψ0 = basis(tr.n_levels, 0)\n",
    "gate1 = \"X90\"\n",
    "gate2 = \"Z90\"\n",
    "gate3 = \"Z180\"\n",
    "gate4 = \"Y90\"\n",
    "\n",
    "c = [U(gate_angles[gate1]), U(gate_angles[gate2]), U(gate_angles[gate3]), U(gate_angles[gate4])]\n",
    "\n",
    "res, f = simulate_circuit(tr, c, noise=False, plot=True)"
   ]
  },
  {
   "attachments": {},
   "cell_type": "markdown",
   "metadata": {},
   "source": [
    "### Perform RBT"
   ]
  },
  {
   "cell_type": "code",
   "execution_count": null,
   "metadata": {},
   "outputs": [],
   "source": [
    "# pulse-level\n",
    "tr.ψ0 = basis(tr.n_levels, 0)\n",
    "fidelities = perform_RBT(tr, max_length=20, iterations=10, plot=True)"
   ]
  }
 ],
 "metadata": {
  "kernelspec": {
   "display_name": "Python 3",
   "language": "python",
   "name": "python3"
  },
  "language_info": {
   "codemirror_mode": {
    "name": "ipython",
    "version": 3
   },
   "file_extension": ".py",
   "mimetype": "text/x-python",
   "name": "python",
   "nbconvert_exporter": "python",
   "pygments_lexer": "ipython3",
   "version": "3.11.0"
  },
  "orig_nbformat": 4,
  "vscode": {
   "interpreter": {
    "hash": "7288047a125d749ccf8d0c933fa1cfc8409f2dedf49938a6afc8b50b9c6c9993"
   }
  }
 },
 "nbformat": 4,
 "nbformat_minor": 2
}
