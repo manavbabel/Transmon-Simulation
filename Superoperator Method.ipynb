{
 "cells": [
  {
   "attachments": {},
   "cell_type": "markdown",
   "metadata": {},
   "source": [
    "# Superoperator Method\n",
    "\n",
    "This notebook implements and tests some of the superoperator formalism."
   ]
  },
  {
   "cell_type": "code",
   "execution_count": null,
   "metadata": {},
   "outputs": [],
   "source": [
    "from transmon_code.superoperators import *\n",
    "from transmon_code.helpers import *\n",
    "from qutip import *\n",
    "from transmon_code.simulate import *\n",
    "from transmon_code.transmon import Transmon\n",
    "import numpy as np\n",
    "import pickle"
   ]
  },
  {
   "cell_type": "code",
   "execution_count": null,
   "metadata": {},
   "outputs": [],
   "source": [
    "# setup the transmon\n",
    "tr = Transmon(n_levels=8, initial_state=0, Ω=2*np.pi*3981, α=2*np.pi*-199, dt=1/50000)\n",
    "\n",
    "tr.X90_args = {'A': 0.9821623327698041, 'τ': 0.024, 'λ': 0, 'α': tr.α, 'ω': tr.Ω, 'δ':-5.070445236848315}\n",
    "\n",
    "# set up the idealised PTM\n",
    "\n",
    "PTM = PTMs(tr.n_levels)\n",
    "X90_PTM_ideal = PTM.ideal_PTM(\"X90\")"
   ]
  },
  {
   "cell_type": "code",
   "execution_count": null,
   "metadata": {},
   "outputs": [],
   "source": [
    "# learn the X90 PTM\n",
    "\n",
    "X90_PTM = PTM.learn_X90_PTM(tr)"
   ]
  },
  {
   "cell_type": "code",
   "execution_count": null,
   "metadata": {},
   "outputs": [],
   "source": [
    "# save everything\n",
    "with open(\"transmon_PTMs\", \"wb\") as f:\n",
    "    pickle.dump([tr, X90_PTM], f)"
   ]
  },
  {
   "cell_type": "code",
   "execution_count": null,
   "metadata": {},
   "outputs": [],
   "source": [
    "# load everything\n",
    "with open(\"transmon_PTMs\", \"rb\") as f:\n",
    "    tr, X90_PTM = pickle.load(f)"
   ]
  },
  {
   "cell_type": "code",
   "execution_count": null,
   "metadata": {},
   "outputs": [],
   "source": [
    "# check that the PTM gives the same result as the pulse\n",
    "%matplotlib qt\n",
    "\n",
    "tr.ψ0 = make_state(tr.n_levels,\"0\")\n",
    "\n",
    "target = make_state(tr.n_levels,\"L\")\n",
    "\n",
    "res_sim, f = simulate(tr, tr.X90_args, target=target, plot=True)\n",
    "\n",
    "res_PTM = PTM.apply_PTM(X90_PTM, tr.ψ0)\n",
    "res_PTM_ideal = PTM.apply_PTM(X90_PTM_ideal, tr.ψ0)"
   ]
  },
  {
   "cell_type": "code",
   "execution_count": null,
   "metadata": {},
   "outputs": [],
   "source": [
    "plot_bloch([res_sim[-1], res_PTM, res_PTM_ideal])\n",
    "\n",
    "print(fidelity(res_sim[-1], res_PTM)**2)\n",
    "print(fidelity(res_sim[-1], res_PTM_ideal)**2)\n",
    "print(fidelity(res_PTM, res_PTM_ideal)**2)"
   ]
  },
  {
   "cell_type": "code",
   "execution_count": null,
   "metadata": {},
   "outputs": [],
   "source": [
    "# check a single gate runs as expected\n",
    "\n",
    "gate = \"Y90\"\n",
    "g = U(gate_angles[gate])\n",
    "\n",
    "# via simulation\n",
    "print(\"Performing simulation...\")\n",
    "res_sim, _ = simulate_circuit(tr, g, plot=False)\n",
    "\n",
    "# via ideal PTM\n",
    "print(\"Calculating via PTMs...\")\n",
    "gate_PTM = PTM.ideal_PTM(gate)\n",
    "res_PTM1 = PTM.apply_PTM(gate_PTM, tr.ψ0)\n",
    "\n",
    "# via decomposition\n",
    "circ_PTM = PTM.circuit_PTM(gate, X90_PTM)\n",
    "res_PTMc = PTM.apply_PTM(circ_PTM, tr.ψ0)\n",
    "\n",
    "plot_bloch([tr.ψ0, res_sim, res_PTM1, res_PTMc])\n",
    "\n",
    "print(fidelity(res_sim, res_PTMc)**2)"
   ]
  },
  {
   "cell_type": "code",
   "execution_count": null,
   "metadata": {},
   "outputs": [],
   "source": [
    "# check a circuit works as expected\n",
    "\n",
    "circ = [\"X90\", \"Z90\", \"Y90\", \"X180\"]\n",
    "\n",
    "# via pulse simulation\n",
    "res_sim, _ = simulate_circuit(tr, circ, plot=False)\n",
    "\n",
    "# via circuit decomposition\n",
    "circ_PTM = PTM.circuit_PTM(circ, X90_PTM)\n",
    "res_PTM = PTM.apply_PTM(circ_PTM, tr.ψ0)\n",
    "\n",
    "plot_bloch(truncate([tr.ψ0, res_sim, res_PTM]))"
   ]
  },
  {
   "cell_type": "code",
   "execution_count": null,
   "metadata": {},
   "outputs": [],
   "source": [
    "fidelity(res_sim, res_PTM)**2"
   ]
  },
  {
   "cell_type": "code",
   "execution_count": null,
   "metadata": {},
   "outputs": [],
   "source": [
    "# calculate the error gate\n",
    "error_gate = X90_PTM * PTM.ideal_PTM(\"X270\")#.inv()\n",
    "Qobj(np.eye(error_gate.dims[0][0])) - error_gate"
   ]
  },
  {
   "cell_type": "code",
   "execution_count": null,
   "metadata": {},
   "outputs": [],
   "source": [
    "# perform RBT\n",
    "lengths = [20]\n",
    "\n",
    "f = PTM.RBT_PTM(tr, X90_PTM, lengths, 1)"
   ]
  },
  {
   "cell_type": "code",
   "execution_count": null,
   "metadata": {},
   "outputs": [],
   "source": []
  }
 ],
 "metadata": {
  "kernelspec": {
   "display_name": "Python 3",
   "language": "python",
   "name": "python3"
  },
  "language_info": {
   "codemirror_mode": {
    "name": "ipython",
    "version": 3
   },
   "file_extension": ".py",
   "mimetype": "text/x-python",
   "name": "python",
   "nbconvert_exporter": "python",
   "pygments_lexer": "ipython3",
   "version": "3.11.0"
  },
  "orig_nbformat": 4,
  "vscode": {
   "interpreter": {
    "hash": "7288047a125d749ccf8d0c933fa1cfc8409f2dedf49938a6afc8b50b9c6c9993"
   }
  }
 },
 "nbformat": 4,
 "nbformat_minor": 2
}
