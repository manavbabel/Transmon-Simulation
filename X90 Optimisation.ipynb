{
 "cells": [
  {
   "attachments": {},
   "cell_type": "markdown",
   "metadata": {},
   "source": [
    "# X90 Optimiser\n",
    "\n",
    "This notebook is purely for the purpose of optimising the X90 pulse for a given transmon."
   ]
  },
  {
   "cell_type": "code",
   "execution_count": null,
   "metadata": {},
   "outputs": [],
   "source": [
    "# imports\n",
    "import numpy as np\n",
    "from qutip import basis\n",
    "from transmon_code.transmon import *\n",
    "from transmon_code.optimise_X90 import *\n",
    "from transmon_code.simulate import *"
   ]
  },
  {
   "cell_type": "code",
   "execution_count": null,
   "metadata": {},
   "outputs": [],
   "source": [
    "# define the transmon\n",
    "\n",
    "tr = Transmon(n_levels=8, initial_state=0, Ω=2*np.pi*3981, α=2*np.pi*-199)\n",
    "\n",
    "# for a pulse of length 0.024\n",
    "tr.X90_args = {'A': 1.02431707152378, 'τ': 0.024, 'λ': -1.4702485711260789, 'α': tr.α, 'ω': tr.Ω, 'final_Z_rot': 0.2555209480765517}\n"
   ]
  },
  {
   "cell_type": "code",
   "execution_count": null,
   "metadata": {},
   "outputs": [],
   "source": [
    "# optimise the pulse\n",
    "\n",
    "semiranges = {\"A\":0.05, \"λ\":0.05}\n",
    "\n",
    "for i in range(3):\n",
    "    tr.X90_args = create_X90_pulse(tr, tr.X90_args, semiranges, plot=True, rand_init=True, N=40)"
   ]
  },
  {
   "cell_type": "code",
   "execution_count": null,
   "metadata": {},
   "outputs": [],
   "source": [
    "# check result\n",
    "# %matplotlib qt\n",
    "\n",
    "# test from 0 to - (minus)\n",
    "targ = (basis(tr.n_levels, 0)-1j*basis(tr.n_levels, 1)).unit()\n",
    "\n",
    "res, f = simulate(tr, tr.X90_args, target=targ, noise=False, plot=True)\n",
    "\n",
    "break_down_errors(tr, tr.X90_args[\"τ\"], res[-1], f)"
   ]
  },
  {
   "cell_type": "code",
   "execution_count": null,
   "metadata": {},
   "outputs": [],
   "source": []
  }
 ],
 "metadata": {
  "kernelspec": {
   "display_name": "Python 3",
   "language": "python",
   "name": "python3"
  },
  "language_info": {
   "codemirror_mode": {
    "name": "ipython",
    "version": 3
   },
   "file_extension": ".py",
   "mimetype": "text/x-python",
   "name": "python",
   "nbconvert_exporter": "python",
   "pygments_lexer": "ipython3",
   "version": "3.11.0"
  },
  "orig_nbformat": 4,
  "vscode": {
   "interpreter": {
    "hash": "7288047a125d749ccf8d0c933fa1cfc8409f2dedf49938a6afc8b50b9c6c9993"
   }
  }
 },
 "nbformat": 4,
 "nbformat_minor": 2
}
