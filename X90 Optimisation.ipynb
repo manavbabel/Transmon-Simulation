{
 "cells": [
  {
   "attachments": {},
   "cell_type": "markdown",
   "metadata": {},
   "source": [
    "# X90 Optimiser\n",
    "\n",
    "This notebook is purely for the purpose of optimising the X90 pulse for a given transmon"
   ]
  },
  {
   "cell_type": "code",
   "execution_count": null,
   "metadata": {},
   "outputs": [],
   "source": [
    "# imports\n",
    "import numpy as np\n",
    "from qutip import basis\n",
    "from transmon_code.transmon import *\n",
    "from transmon_code.optimise_X90 import *\n",
    "from transmon_code.simulate import *"
   ]
  },
  {
   "cell_type": "code",
   "execution_count": null,
   "metadata": {},
   "outputs": [],
   "source": [
    "# define the transmon\n",
    "\n",
    "tr = Transmon(n_levels=2, initial_state=0, Ω=5000, α=-100, RWA=True, dt=1/10000)\n",
    "tr.X90_args = {'A': 7.434394312382544, 'Γ': 0.5032295274634372, 'ω': 5000.0, 'A_DRAG': -0.00047925128386844783}"
   ]
  },
  {
   "cell_type": "code",
   "execution_count": null,
   "metadata": {},
   "outputs": [],
   "source": [
    "# optimise the pulse\n",
    "\n",
    "t = np.arange(0, 1, tr.dt)\n",
    "semiranges = {\"A\":0.02, \"Γ\":0.005, \"A_DRAG\":0.01}\n",
    "\n",
    "tr.X90_args = create_X90_pulse(t, tr, args=tr.X90_args, semiranges=semiranges, plot=True, rand_init=False, N=30)"
   ]
  },
  {
   "cell_type": "code",
   "execution_count": null,
   "metadata": {},
   "outputs": [],
   "source": [
    "# check result\n",
    "\n",
    "# test from 0 to - (minus)\n",
    "targ = (basis(tr.n_levels, 0)-1j*basis(tr.n_levels, 1)).unit()\n",
    "\n",
    "res, f = simulate(tr, tr.X90_args, target=targ, noise=False, plot=True)\n",
    "print(f)"
   ]
  }
 ],
 "metadata": {
  "kernelspec": {
   "display_name": "Python 3",
   "language": "python",
   "name": "python3"
  },
  "language_info": {
   "name": "python",
   "version": "3.11.0"
  },
  "orig_nbformat": 4,
  "vscode": {
   "interpreter": {
    "hash": "7288047a125d749ccf8d0c933fa1cfc8409f2dedf49938a6afc8b50b9c6c9993"
   }
  }
 },
 "nbformat": 4,
 "nbformat_minor": 2
}
