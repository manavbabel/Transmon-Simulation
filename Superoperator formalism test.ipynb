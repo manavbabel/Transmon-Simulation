{
 "cells": [
  {
   "attachments": {},
   "cell_type": "markdown",
   "metadata": {},
   "source": [
    "# Superoperator Formalism\n",
    "\n",
    "Here, I present a way to represent the effect of a pulse as a matrix, massively speeding up computation, and allowing more detailed error analysis.\n",
    "\n",
    "We start with a recounting of the basics, considering a single $n$-level qubit. A pure state (ket) of this qubit $\\ket{\\psi}$ exists in an $n$-dimensional Hilbert space, and is represented by a vector of length $n$. An operator is a map from $\\mathcal{H}_n\\to\\mathcal{H}_n$, and is a map from kets to other kets.\n",
    "\n",
    "If we now include mixed states, allowing for non-unitary evolution, we must change formalism. Now, a state is represented by a *density operator* $\\rho=\\ket{\\psi}\\bra{\\psi}$, which is represented as an $n\\times n$ matrix. This is why they are also known as *density matrices*.\n",
    "\n",
    "> It can be seen that some of the operators in the pure formalism can be seen as density matrices representing states. For example, the $X90$ operator corresponds to the state $\\ket{0}+\\ket{1}$.\n",
    "\n",
    "The question is then how do we operate on these density matrices? A naïve way would be to simply change the way they operate:\n",
    "\n",
    "$$A\\ket{\\psi}\\to A\\rho A^\\dag$$\n",
    "\n",
    "However, this does not offer much insight into the process. A better way is to use a representation known as a Pauli Transfer Matrix.\n",
    "\n",
    "## PTMs\n",
    "\n",
    "> Go over this - in particular, why have the dimensions changed, and why is it a 4x4 matrix?\n",
    "\n",
    "Consider a linear map $\\rho \\to \\Lambda(\\rho)$, acting on a Hilbert space which has some basis $P$. In 2D, this can be the Pauli set. For higher dimensions, we use the `generate_basis` function from `helpers.py`.\n",
    "\n",
    "Then, we have a change of dimension: density matrices, which were $n\\times n$ matrices, become vectors of length $n^2$ on a Hilbert space $\\mathcal{H}_{n^2}$, and are written as superkets $\\ket{\\rho}\\rangle$. Operators become superoperators, and are represented by matrices of dimension $n^2\\times n^2$.\n",
    "\n",
    "Under this formalism, we can derive something called the Pauli Transfer Matrix:\n",
    "\n",
    "$$\\left(R_\\Lambda\\right)_{ij}=\\frac{1}{n}\\text{Tr }\\left[P_i\\Lambda\\left(P_j\\right)\\right]$$\n",
    "\n",
    "And we find that\n",
    "\n",
    "$$\\ket{\\Lambda(\\rho)}\\rangle=R_\\Lambda \\ket{\\rho}\\rangle$$\n",
    "\n",
    "That is, the superket after the map is found by multiplying the PTM by the superket before the map. This means if we can find the PTM for a given map (by finding the result of its application to the basis vectors) then we can find the result of the operation for *any* initial state.\n",
    "\n",
    "The question is now how to transfer from density matrices and operators to superkets and superoperators. We use a decomposition method to *vectorise* the matrices.\n",
    "\n",
    "That is, the superket is a *vector* of length $n^2$ which has elements\n",
    "\n",
    "$$\\ket{\\rho}\\rangle_i=\\langle\\braket{k|\\rho}\\rangle=\\text{Tr }P_k\\rho$$\n",
    "\n",
    "Where $k\\equiv P_k$. That is, decompose the matrix $\\rho$ into the basis $P$, and then the superket represents these coefficients.\n",
    "\n",
    "For example,\n",
    "\n",
    "$$\\ket{\\rho}\\rangle=\\begin{pmatrix}0.5\\\\0\\\\0.2\\\\0.3\\end{pmatrix}\\implies \\rho =0.5P_0+0P_1+0.2P_2+0.3P_3$$\n",
    "\n",
    "### Key Properties\n",
    "\n",
    "The PTM has a number of key properties which make it useful.\n",
    "\n",
    " - The elements satisfy $(R_\\Lambda)_{ij}\\in\\mathbb{R}, (R_\\Lambda)_{ij}\\in[-1, 1]$\n",
    " - The PTM of some composite map is equal to the product of the individual PTMs, which makes simulating a circuit easy\n",
    "\n",
    "Then, all maps $\\Lambda$ must be CPTP (completely positive (positive probabilities) and trace-preserving (probabilities add to 1)). This puts two requirements on $R_\\Lambda$:\n",
    "\n",
    "$$\\left(R_\\Lambda\\right)_{0j}=\\delta_{0j}=(1,0,0,\\dots,0)$$\n",
    "\n",
    "The second requirement is that we require $\\rho_\\Lambda$ to be positive semi-definite, where\n",
    "\n",
    "$$\\rho_\\Lambda=\\frac{1}{d^2}\\sum_{i,j=1}^{d^2}{(R_\\Lambda)_{ij}P_j^T\\otimes P_i}$$\n",
    "\n",
    "The map may also be unital, which means that it maps the identity to the identity, or equivalently, it does not make a state more pure. This can be visualised as the requirement that the zero vector on the Bloch sphere (maximally mixed state) is not mapped to a nonzero vector (less mixed state). If the map is unital, we find that the first *column* of $R_\\Lambda$ satisfies\n",
    "\n",
    "$$R_{i0}=\\delta_{i0}=\\begin{pmatrix}1\\\\0\\\\0\\\\\\vdots\\\\0\\end{pmatrix}$$\n",
    "\n",
    "## Errors\n",
    "\n",
    "does error analysis require me to change from a PTM to a process matrix?\n",
    "\n",
    "## Algorithm\n",
    "\n",
    "The algorithm I will use is as follows\n",
    "\n",
    "1. Set up a transmon with some defined parameters\n",
    "2. Using pulse-level simulation, find the optimal pulse parameters to execute an X90 pulse. Initially start with $\\ket{0}$, but once the pulse is near-optimal, simulate a random starting state\n",
    "3. Calculate the PTM by running the pulse on all of the basis states\n",
    "4. Verify the PTM by comparing the simulated and pulse-level result for some initial state\n",
    "5. Analyse the PTM to correlate error sources and types?\n",
    "\n",
    "Discuss this plan with Peter.\n",
    "\n",
    "## Notes\n",
    "\n",
    "The inner product of two vectors or matrices is defined as\n",
    "\n",
    "$$\\braket{A|B}\\text{ or }\\langle\\braket{A|B}\\rangle = \\text{Tr } A^\\dag B$$\n",
    "\n",
    "And the expected value of any operator is\n",
    "\n",
    "$$\\braket{E}=\\text{Tr }E\\rho$$"
   ]
  },
  {
   "cell_type": "code",
   "execution_count": 15,
   "metadata": {},
   "outputs": [],
   "source": [
    "from qutip import *\n",
    "from qutip_qip import circuit, operations\n",
    "import numpy as np\n",
    "# from helpers import *\n",
    "from transmon import *\n",
    "from simulate import *\n",
    "from scipy.linalg import logm"
   ]
  },
  {
   "cell_type": "code",
   "execution_count": 2,
   "metadata": {},
   "outputs": [],
   "source": [
    "# define initial variables\n",
    "d = 2\n",
    "\n",
    "# pauli basis\n",
    "P = [identity(2), sigmax(), sigmay(), sigmaz()]\n",
    "P = [i/np.sqrt(d) for i in P]\n",
    "\n",
    "# OR a basis generated by generate_basis\n",
    "P = [Qobj(i) for i in generate_basis(d)]"
   ]
  },
  {
   "cell_type": "code",
   "execution_count": 3,
   "metadata": {},
   "outputs": [],
   "source": [
    "# define how the channel works\n",
    "\n",
    "# here, as a circuit\n",
    "def run_circuit(state):\n",
    "\n",
    "    qc = circuit.QubitCircuit(1)\n",
    "    qc.add_gate(\"RX\", targets=0, arg_value=np.pi/2)\n",
    "    return qc.run(state)\n",
    "\n",
    "# here is the pulse simulation\n",
    "tr = Transmon(n_levels=8, initial_state=0, Ω=5000, α=-100, RWA=True, A_noise = 1, φ_noise=1e-1, dt=1/1000)\n",
    "tr.X90_args = {'A': 7.4219745213437, 'Γ': 0.5107739712572417, 'ω': 5000.05769818737, 'A_DRAG': -0.018812954392445132}\n",
    "t = np.arange(0, 1, tr.dt)\n",
    "\n",
    "def run_pulse(state):\n",
    "\n",
    "    results = simulate(tr, tr.X90_args)\n",
    "    return truncate(results[-1])"
   ]
  },
  {
   "cell_type": "code",
   "execution_count": 4,
   "metadata": {},
   "outputs": [
    {
     "data": {
      "text/latex": [
       "$\\displaystyle  \\\\ \\left(\\begin{matrix}0.490 & 0.490 & 0.490 & 0.490\\\\0.510 & 0.510 & 0.510 & 0.510\\\\-0.030 & -0.030 & -0.030 & -0.030\\\\0.707 & 0.707 & 0.707 & 0.707\\\\\\end{matrix}\\right)$"
      ],
      "text/plain": [
       "<IPython.core.display.Math object>"
      ]
     },
     "metadata": {},
     "output_type": "display_data"
    },
    {
     "data": {
      "text/latex": [
       "$\\displaystyle  \\\\ \\left(\\begin{matrix}0.500 & 0.500 & 0.0 & -0.707\\\\0.500 & 0.500 & 0.0 & 0.707\\\\0.0 & 0.0 & 1.0 & 0.0\\\\0.707 & -0.707 & 0.0 & 0.0\\\\\\end{matrix}\\right)$"
      ],
      "text/plain": [
       "<IPython.core.display.Math object>"
      ]
     },
     "metadata": {},
     "output_type": "display_data"
    }
   ],
   "source": [
    "# calculate the observed PTM using Λ(P) for each P in the basis\n",
    "PTM = Qobj([[np.trace(i*run_pulse(j)) for j in P] for i in P])\n",
    "\n",
    "# calculate the ideal PTM\n",
    "PTM_ideal = Qobj([[np.trace(i*run_circuit(j)) for j in P] for i in P])\n",
    "\n",
    "disp(PTM)\n",
    "disp(PTM_ideal)"
   ]
  },
  {
   "cell_type": "code",
   "execution_count": 5,
   "metadata": {},
   "outputs": [],
   "source": [
    "# define the helpers for simulating the circuit on a general state\n",
    "\n",
    "def to_vec(ρ):\n",
    "    return Qobj([[np.trace(i*ρ) for i in P]]).trans() #to convert to column\n",
    "\n",
    "def to_oper(vec):\n",
    "    return sum([vec.full()[i][0] * P[i] for i in range(vec.dims[0][0])])"
   ]
  },
  {
   "cell_type": "code",
   "execution_count": 8,
   "metadata": {},
   "outputs": [
    {
     "data": {
      "text/latex": [
       "$\\displaystyle  \\\\ \\left(\\begin{matrix}0.287 & (-0.012+0.293j)\\\\(-0.012-0.293j) & 0.299\\\\\\end{matrix}\\right)$"
      ],
      "text/plain": [
       "<IPython.core.display.Math object>"
      ]
     },
     "metadata": {},
     "output_type": "display_data"
    },
    {
     "data": {
      "text/latex": [
       "$\\displaystyle  \\\\ \\left(\\begin{matrix}2.0 & 0.0\\\\0.0 & 0.0\\\\\\end{matrix}\\right)$"
      ],
      "text/plain": [
       "<IPython.core.display.Math object>"
      ]
     },
     "metadata": {},
     "output_type": "display_data"
    }
   ],
   "source": [
    "init = basis(2,0)+1j*basis(2,1)\n",
    "\n",
    "# predicted result using PTM\n",
    "predicted = to_oper(PTM*to_vec(ket2dm(init)))\n",
    "# actual result from pulse\n",
    "actual = ket2dm(run_circuit(init))\n",
    "\n",
    "disp(predicted)\n",
    "disp(actual)"
   ]
  },
  {
   "cell_type": "code",
   "execution_count": 20,
   "metadata": {},
   "outputs": [
    {
     "data": {
      "text/latex": [
       "Quantum object: dims = [[4], [4]], shape = (4, 4), type = oper, isherm = False $ \\\\ \\left(\\begin{matrix}0.143 & 0.836 & 0.490 & 0.0\\\\0.149 & 0.871 & 0.510 & 0.0\\\\-0.009 & -0.050 & -0.030 & 0.0\\\\0.207 & 1.207 & 0.707 & 0.0\\\\\\end{matrix}\\right)$"
      ],
      "text/plain": [
       "Quantum object: dims = [[4], [4]], shape = (4, 4), type = oper, isherm = False\n",
       "Qobj data =\n",
       "[[ 0.14348546  0.83629454  0.48989     0.        ]\n",
       " [ 0.14940776  0.87081224  0.51011     0.        ]\n",
       " [-0.00865028 -0.05041755 -0.02953392  0.        ]\n",
       " [ 0.207034    1.20668257  0.70685828  0.        ]]"
      ]
     },
     "execution_count": 20,
     "metadata": {},
     "output_type": "execute_result"
    }
   ],
   "source": [
    "error_gate = PTM * PTM_ideal.inv()\n",
    "error_gate"
   ]
  },
  {
   "cell_type": "code",
   "execution_count": null,
   "metadata": {},
   "outputs": [],
   "source": []
  }
 ],
 "metadata": {
  "kernelspec": {
   "display_name": "Python 3",
   "language": "python",
   "name": "python3"
  },
  "language_info": {
   "codemirror_mode": {
    "name": "ipython",
    "version": 3
   },
   "file_extension": ".py",
   "mimetype": "text/x-python",
   "name": "python",
   "nbconvert_exporter": "python",
   "pygments_lexer": "ipython3",
   "version": "3.11.0"
  },
  "orig_nbformat": 4,
  "vscode": {
   "interpreter": {
    "hash": "7288047a125d749ccf8d0c933fa1cfc8409f2dedf49938a6afc8b50b9c6c9993"
   }
  }
 },
 "nbformat": 4,
 "nbformat_minor": 2
}
